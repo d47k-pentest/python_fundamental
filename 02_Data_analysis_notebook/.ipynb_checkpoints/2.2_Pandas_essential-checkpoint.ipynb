{
 "cells": [
  {
   "cell_type": "markdown",
   "id": "a05a46e6",
   "metadata": {},
   "source": [
    "# Pandas Module\n",
    "\n"
   ]
  },
  {
   "cell_type": "code",
   "execution_count": 1,
   "id": "b12b18c5",
   "metadata": {},
   "outputs": [],
   "source": [
    "import pandas as pd\n",
    "import numpy as np\n",
    "import matplotlib.pyplot as plt"
   ]
  },
  {
   "cell_type": "markdown",
   "id": "cf49753e",
   "metadata": {},
   "source": [
    "## Pandas Data Type\n",
    "    - Pandas Series\n",
    "    - Pandas Data Frame (like Excel Table)\n",
    "    \n",
    "    "
   ]
  },
  {
   "cell_type": "markdown",
   "id": "769ed944",
   "metadata": {},
   "source": [
    "# Pandas Series (ordered sequence of element)"
   ]
  },
  {
   "cell_type": "code",
   "execution_count": 2,
   "id": "5486e344",
   "metadata": {},
   "outputs": [
    {
     "data": {
      "text/plain": [
       "0     35.467\n",
       "1     63.951\n",
       "2     80.948\n",
       "3     60.665\n",
       "4    127.861\n",
       "5     64.511\n",
       "6    318.523\n",
       "dtype: float64"
      ]
     },
     "execution_count": 2,
     "metadata": {},
     "output_type": "execute_result"
    }
   ],
   "source": [
    "# G7 Countries population data\n",
    "\n",
    "\n",
    "g7_pop = pd.Series([35.467,63.951,80.948,60.665,127.861,64.511,318.523])\n",
    "g7_pop\n"
   ]
  },
  {
   "cell_type": "code",
   "execution_count": 3,
   "id": "d5ddf68c",
   "metadata": {},
   "outputs": [
    {
     "data": {
      "text/plain": [
       "0     35.467\n",
       "1     63.951\n",
       "2     80.948\n",
       "3     60.665\n",
       "4    127.861\n",
       "5     64.511\n",
       "6    318.523\n",
       "Name: G7 Population in millions, dtype: float64"
      ]
     },
     "execution_count": 3,
     "metadata": {},
     "output_type": "execute_result"
    }
   ],
   "source": [
    "# Naming the Data Seires\n",
    "\n",
    "g7_pop.name = \"G7 Population in millions\"\n",
    "g7_pop"
   ]
  },
  {
   "cell_type": "code",
   "execution_count": null,
   "id": "657d4f3a",
   "metadata": {
    "scrolled": true
   },
   "outputs": [],
   "source": [
    "\n",
    " "
   ]
  },
  {
   "cell_type": "code",
   "execution_count": 4,
   "id": "7b118904",
   "metadata": {},
   "outputs": [
    {
     "data": {
      "text/plain": [
       "array([ 35.467,  63.951,  80.948,  60.665, 127.861,  64.511, 318.523])"
      ]
     },
     "execution_count": 4,
     "metadata": {},
     "output_type": "execute_result"
    }
   ],
   "source": [
    "# Check the values \n",
    "g7_pop.values"
   ]
  },
  {
   "cell_type": "markdown",
   "id": "fd219141",
   "metadata": {},
   "source": [
    "## Inedxing"
   ]
  },
  {
   "cell_type": "code",
   "execution_count": 5,
   "id": "1621e4a2",
   "metadata": {},
   "outputs": [
    {
     "data": {
      "text/plain": [
       "63.951"
      ]
     },
     "execution_count": 5,
     "metadata": {},
     "output_type": "execute_result"
    }
   ],
   "source": [
    "# Indexing (Similar python list)\n",
    "\n",
    "g7_pop[1]\n"
   ]
  },
  {
   "cell_type": "code",
   "execution_count": 6,
   "id": "e06c29dc",
   "metadata": {},
   "outputs": [
    {
     "data": {
      "text/plain": [
       "Canada             35.467\n",
       "France             63.951\n",
       "Germany            80.948\n",
       "Italy              60.665\n",
       "Japan             127.861\n",
       "United Kingdom     64.511\n",
       "United States     318.523\n",
       "Name: G7 Population in millions, dtype: float64"
      ]
     },
     "execution_count": 6,
     "metadata": {},
     "output_type": "execute_result"
    }
   ],
   "source": [
    "# Changing index of the sereis\n",
    "\n",
    "\n",
    "g7_pop.index = [\n",
    "    'Canada',\n",
    "    'France',\n",
    "    'Germany',\n",
    "    'Italy',\n",
    "    'Japan',\n",
    "    'United Kingdom',\n",
    "    'United States'\n",
    "    \n",
    "    \n",
    "]\n",
    "\n",
    "g7_pop"
   ]
  },
  {
   "cell_type": "code",
   "execution_count": 7,
   "id": "3860fcb3",
   "metadata": {},
   "outputs": [
    {
     "data": {
      "text/plain": [
       "Canada             35.467\n",
       "France             63.951\n",
       "Germany            80.948\n",
       "Italy              60.665\n",
       "Japan             127.861\n",
       "United Kingdom     64.511\n",
       "United States     318.523\n",
       "dtype: float64"
      ]
     },
     "execution_count": 7,
     "metadata": {},
     "output_type": "execute_result"
    }
   ],
   "source": [
    "# Creating pandas Series using dictionary\n",
    "pd.Series({\n",
    "    'Canada'   :  35.467,\n",
    "    'France'   :  63.951,\n",
    "    'Germany'  :  80.948,\n",
    "    'Italy'    :  60.665,\n",
    "    'Japan'    :  127.861,\n",
    "    'United Kingdom' :   64.511,\n",
    "    'United States'  :   318.523,\n",
    "    \n",
    "    \n",
    "})\n",
    "\n",
    "\n",
    "\n",
    "\n",
    "\n"
   ]
  },
  {
   "cell_type": "markdown",
   "id": "bc9a2618",
   "metadata": {},
   "source": [
    "## Selecting Data using index\n",
    "- pandas series are orderded\n",
    "- After nameing index, you can also access the data using numerical index such as `g7_pop[0]`"
   ]
  },
  {
   "cell_type": "code",
   "execution_count": 8,
   "id": "f8975af9",
   "metadata": {},
   "outputs": [
    {
     "data": {
      "text/plain": [
       "63.951"
      ]
     },
     "execution_count": 8,
     "metadata": {},
     "output_type": "execute_result"
    }
   ],
   "source": [
    "# Using Index to show data\n",
    "\n",
    "g7_pop['France']"
   ]
  },
  {
   "cell_type": "code",
   "execution_count": 9,
   "id": "5cdf883c",
   "metadata": {},
   "outputs": [
    {
     "data": {
      "text/plain": [
       "63.951"
      ]
     },
     "execution_count": 9,
     "metadata": {},
     "output_type": "execute_result"
    }
   ],
   "source": [
    "g7_pop[1]"
   ]
  },
  {
   "cell_type": "code",
   "execution_count": 10,
   "id": "17f7f152",
   "metadata": {},
   "outputs": [
    {
     "data": {
      "text/plain": [
       "63.951"
      ]
     },
     "execution_count": 10,
     "metadata": {},
     "output_type": "execute_result"
    }
   ],
   "source": [
    "g7_pop.iloc[1]"
   ]
  },
  {
   "cell_type": "markdown",
   "id": "d7b79a07",
   "metadata": {},
   "source": [
    "## Accessing Multiple element"
   ]
  },
  {
   "cell_type": "code",
   "execution_count": 11,
   "id": "e06a85f0",
   "metadata": {},
   "outputs": [
    {
     "data": {
      "text/plain": [
       "Canada    35.467\n",
       "France    63.951\n",
       "Name: G7 Population in millions, dtype: float64"
      ]
     },
     "execution_count": 11,
     "metadata": {},
     "output_type": "execute_result"
    }
   ],
   "source": [
    "g7_pop[['Canada', 'France']]"
   ]
  },
  {
   "cell_type": "code",
   "execution_count": 12,
   "id": "64e1f834",
   "metadata": {},
   "outputs": [
    {
     "data": {
      "text/plain": [
       "Canada    35.467\n",
       "France    63.951\n",
       "Name: G7 Population in millions, dtype: float64"
      ]
     },
     "execution_count": 12,
     "metadata": {},
     "output_type": "execute_result"
    }
   ],
   "source": [
    "g7_pop[[0,1]]"
   ]
  },
  {
   "cell_type": "markdown",
   "id": "e9a99703",
   "metadata": {},
   "source": [
    "# Slicing\n",
    "- **Slicing also work, but the upper limit is also included**"
   ]
  },
  {
   "cell_type": "code",
   "execution_count": 13,
   "id": "7ec5232a",
   "metadata": {},
   "outputs": [
    {
     "data": {
      "text/plain": [
       "Canada      35.467\n",
       "France      63.951\n",
       "Germany     80.948\n",
       "Italy       60.665\n",
       "Japan      127.861\n",
       "Name: G7 Population in millions, dtype: float64"
      ]
     },
     "execution_count": 13,
     "metadata": {},
     "output_type": "execute_result"
    }
   ],
   "source": [
    "# Slicing using index\n",
    "\n",
    "g7_pop['Canada': 'Japan']"
   ]
  },
  {
   "cell_type": "code",
   "execution_count": 14,
   "id": "a8428c63",
   "metadata": {},
   "outputs": [
    {
     "data": {
      "text/plain": [
       "Canada      35.467\n",
       "France      63.951\n",
       "Germany     80.948\n",
       "Italy       60.665\n",
       "Japan      127.861\n",
       "Name: G7 Population in millions, dtype: float64"
      ]
     },
     "execution_count": 14,
     "metadata": {},
     "output_type": "execute_result"
    }
   ],
   "source": [
    "g7_pop[: 'Japan']"
   ]
  },
  {
   "cell_type": "code",
   "execution_count": 15,
   "id": "41868c1b",
   "metadata": {},
   "outputs": [
    {
     "data": {
      "text/plain": [
       "Canada             35.467\n",
       "France             63.951\n",
       "Germany            80.948\n",
       "Italy              60.665\n",
       "Japan             127.861\n",
       "United Kingdom     64.511\n",
       "United States     318.523\n",
       "Name: G7 Population in millions, dtype: float64"
      ]
     },
     "execution_count": 15,
     "metadata": {},
     "output_type": "execute_result"
    }
   ],
   "source": [
    "g7_pop['Canada': ]"
   ]
  },
  {
   "cell_type": "markdown",
   "id": "3049108c",
   "metadata": {},
   "source": [
    "# Operation"
   ]
  },
  {
   "cell_type": "code",
   "execution_count": 26,
   "id": "3ee3ce80",
   "metadata": {},
   "outputs": [
    {
     "data": {
      "text/plain": [
       "Canada             35467000.0\n",
       "France             63951000.0\n",
       "Germany            80948000.0\n",
       "Italy              60665000.0\n",
       "Japan             127861000.0\n",
       "United Kingdom     64511000.0\n",
       "United States     318523000.0\n",
       "Name: G7 Population in millions, dtype: float64"
      ]
     },
     "execution_count": 26,
     "metadata": {},
     "output_type": "execute_result"
    }
   ],
   "source": [
    "# Multiplication\n",
    "g7_pop * 1000000"
   ]
  },
  {
   "cell_type": "code",
   "execution_count": 27,
   "id": "130f1aab",
   "metadata": {},
   "outputs": [
    {
     "data": {
      "text/plain": [
       "Canada            False\n",
       "France            False\n",
       "Germany            True\n",
       "Italy             False\n",
       "Japan              True\n",
       "United Kingdom    False\n",
       "United States      True\n",
       "Name: G7 Population in millions, dtype: bool"
      ]
     },
     "execution_count": 27,
     "metadata": {},
     "output_type": "execute_result"
    }
   ],
   "source": [
    "# Comparism\n",
    "\n",
    "g7_pop > 70 # Return boolean"
   ]
  },
  {
   "cell_type": "code",
   "execution_count": 30,
   "id": "9aaa8282",
   "metadata": {},
   "outputs": [
    {
     "data": {
      "text/plain": [
       "Germany           80.948\n",
       "Japan            127.861\n",
       "United States    318.523\n",
       "Name: G7 Population in millions, dtype: float64"
      ]
     },
     "execution_count": 30,
     "metadata": {},
     "output_type": "execute_result"
    }
   ],
   "source": [
    "# Selecting data based on condition\n",
    "g7_pop[g7_pop > 70]"
   ]
  },
  {
   "cell_type": "code",
   "execution_count": 33,
   "id": "6bacc916",
   "metadata": {},
   "outputs": [
    {
     "data": {
      "text/plain": [
       "count      7.000000\n",
       "mean     107.418000\n",
       "std       97.277163\n",
       "min       35.467000\n",
       "25%       62.308000\n",
       "50%       64.511000\n",
       "75%      104.404500\n",
       "max      318.523000\n",
       "Name: G7 Population in millions, dtype: float64"
      ]
     },
     "execution_count": 33,
     "metadata": {},
     "output_type": "execute_result"
    }
   ],
   "source": [
    "# Finding Summary\n",
    "g7_pop.describe()"
   ]
  },
  {
   "cell_type": "markdown",
   "id": "9d7f57c3",
   "metadata": {},
   "source": [
    "#  Pandas Data Frame"
   ]
  },
  {
   "cell_type": "code",
   "execution_count": null,
   "id": "75c25d11",
   "metadata": {},
   "outputs": [],
   "source": [
    " "
   ]
  },
  {
   "cell_type": "code",
   "execution_count": null,
   "id": "b5454327",
   "metadata": {},
   "outputs": [],
   "source": []
  },
  {
   "cell_type": "code",
   "execution_count": null,
   "id": "aa082540",
   "metadata": {},
   "outputs": [],
   "source": []
  },
  {
   "cell_type": "code",
   "execution_count": null,
   "id": "08ca1d3a",
   "metadata": {},
   "outputs": [],
   "source": []
  },
  {
   "cell_type": "code",
   "execution_count": null,
   "id": "e6aa6a18",
   "metadata": {},
   "outputs": [],
   "source": []
  }
 ],
 "metadata": {
  "kernelspec": {
   "display_name": "Python 3 (ipykernel)",
   "language": "python",
   "name": "python3"
  },
  "language_info": {
   "codemirror_mode": {
    "name": "ipython",
    "version": 3
   },
   "file_extension": ".py",
   "mimetype": "text/x-python",
   "name": "python",
   "nbconvert_exporter": "python",
   "pygments_lexer": "ipython3",
   "version": "3.10.9"
  }
 },
 "nbformat": 4,
 "nbformat_minor": 5
}
